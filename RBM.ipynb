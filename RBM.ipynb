{
 "cells": [
  {
   "cell_type": "code",
   "execution_count": 397,
   "metadata": {
    "collapsed": false
   },
   "outputs": [
    {
     "name": "stdout",
     "output_type": "stream",
     "text": [
      "Populating the interactive namespace from numpy and matplotlib\n"
     ]
    },
    {
     "name": "stderr",
     "output_type": "stream",
     "text": [
      "WARNING: pylab import has clobbered these variables: ['logistic']\n",
      "`%matplotlib` prevents importing * from pylab and numpy\n"
     ]
    }
   ],
   "source": [
    "import numpy as np\n",
    "from pylab import show, imshow, cm\n",
    "%pylab inline\n",
    "from scipy.stats import logistic\n",
    "from numpy.random import normal\n",
    "from numpy.random import uniform\n",
    "from math import log\n",
    "from scipy.special import logit\n",
    "#logit(p) = log(p / (1 - p))\n",
    "sigmoid = logistic.cdf\n",
    "from scipy.special import expit\n",
    "#expit(x) = 1 / (1 + e^(-x))\n",
    "from scipy.stats import bernoulli\n",
    "from math import ceil\n",
    "import pickle\n",
    "from random import sample\n",
    "import itertools"
   ]
  },
  {
   "cell_type": "code",
   "execution_count": 2,
   "metadata": {
    "collapsed": true
   },
   "outputs": [],
   "source": [
    "# Getting back the objects:\n",
    "with open('objs.pickle', 'rb') as f:  # Python 3: open(..., 'rb')\n",
    "    W, b, c = pickle.load(f)"
   ]
  },
  {
   "cell_type": "code",
   "execution_count": 1,
   "metadata": {
    "collapsed": true
   },
   "outputs": [],
   "source": [
    "def h_probas(W, c, v):\n",
    "    n, m = W.shape\n",
    "    return expit([np.dot(W[i], v) + c[i] for i in range(n)])\n",
    "\n",
    "def h_proba(W, c, v, i, m):\n",
    "    return expit(np.dot(W[i], v) + c[i])"
   ]
  },
  {
   "cell_type": "code",
   "execution_count": 405,
   "metadata": {
    "collapsed": false
   },
   "outputs": [],
   "source": [
    "sigma0 = 0.5\n",
    "batch_size = 100\n",
    "def train_RBM(m, n, data, iterations=1, k=1, W=None, b=None, c=None, learning_rate=0.1):\n",
    "    #initialization\n",
    "    if (W is None):\n",
    "        W = np.array([[uniform(-4*np.sqrt(6/(n+m)), 4*np.sqrt(6/(n+m))) for j in range(m)] for i in range(n)])\n",
    "    if (b is None):\n",
    "        #b = np.array([logit(np.mean([v[j] for v in data])) for j in range(m)])\n",
    "        b = np.zeros(m)\n",
    "    if (c is None):\n",
    "        c = np.zeros(n)\n",
    "    #train\n",
    "    for iteration in range(iterations):\n",
    "        #print progress\n",
    "        if (iteration % 50 == 0):\n",
    "            if (iteration > 0):\n",
    "                print()\n",
    "            print(iteration, end=' '*(len(str(iterations)) - len(str(iteration)) + 1))\n",
    "        \n",
    "        S = sample(data, batch_size)\n",
    "        dW = np.zeros((n, m))\n",
    "        db = np.zeros(m)\n",
    "        dc = np.zeros(n)\n",
    "        for v in S:\n",
    "            v0 = np.array(v)\n",
    "            h0_probas = h_probas(W, c, v0)\n",
    "            vk = np.array(v)\n",
    "            for t in range(k):\n",
    "                hk = bernoulli.rvs(h_probas(W, c, vk))\n",
    "                vk = bernoulli.rvs(expit([np.dot(W[:,j], hk) + b[j] for j in range(m)]))\n",
    "            hk_probas = h_probas(W, c, vk)\n",
    "            db += v0 - vk\n",
    "            dc += h0_probas - hk_probas\n",
    "            v0.resize(1, len(v0))\n",
    "            h0_probas.resize((len(h0_probas), 1))\n",
    "            hk_probas.resize((len(hk_probas), 1))\n",
    "            vk.resize(1, len(vk))\n",
    "            dW += np.matmul(h0_probas, v0) - np.matmul(hk_probas, vk)\n",
    "        \n",
    "        W += learning_rate * dW\n",
    "        b += learning_rate * db\n",
    "        c += learning_rate * dc\n",
    "        iteration += 1\n",
    "        print('#', end='')\n",
    "    return W, b, c"
   ]
  },
  {
   "cell_type": "code",
   "execution_count": 87,
   "metadata": {
    "collapsed": false
   },
   "outputs": [],
   "source": [
    "import dataReader\n",
    "images, labels = dataReader.loadMinst(\"Data/train-labels.idx1-ubyte\", \"Data/train-images.idx3-ubyte\", binary = True, lowDimenson = True)\n",
    "images = list(images.reshape(len(images), 196))"
   ]
  },
  {
   "cell_type": "code",
   "execution_count": 500,
   "metadata": {
    "collapsed": false,
    "scrolled": true
   },
   "outputs": [
    {
     "name": "stdout",
     "output_type": "stream",
     "text": [
      "0   ##################################################\n",
      "50  ##################################################\n",
      "100 ##################################################\n",
      "150 ##################################################"
     ]
    }
   ],
   "source": [
    "W, b, c = train_RBM(len(images[0]), 500, images, iterations=200, W=W, b=b, c=c)"
   ]
  },
  {
   "cell_type": "code",
   "execution_count": 90,
   "metadata": {
    "collapsed": false
   },
   "outputs": [],
   "source": [
    "#initial_distribution = np.array([np.mean([v[j] for v in data]) for j in range(m)])\n",
    "\n",
    "def generate(W, b, c, n, m, digit=-1, iterations=1):\n",
    "    #v = sample(images, 1)[0]\n",
    "    tail = [int(d==digit) for d in range(9)]\n",
    "    v = [0.5 for j in range(m)]\n",
    "    v[-9:] = tail\n",
    "    for p in range(iterations):\n",
    "        h = bernoulli.rvs(h_probas(W, c, v))\n",
    "        v = bernoulli.rvs(expit([np.dot(W[:,j], h) + b[j] for j in range(m)]))\n",
    "    return v"
   ]
  },
  {
   "cell_type": "code",
   "execution_count": 229,
   "metadata": {
    "collapsed": true
   },
   "outputs": [],
   "source": [
    "def classify(W, b, c, n, m, image):\n",
    "    tail = [0 for i in range(9)]\n",
    "    h = bernoulli.rvs(h_probas(W, c, image + tail))\n",
    "    v = (expit([sum([W[i][j]*h[i] for i in range(n)]) + b[j] for j in range(-9, 0)]))\n",
    "    print(v)\n",
    "    return np.argmax(v)"
   ]
  },
  {
   "cell_type": "code",
   "execution_count": 312,
   "metadata": {
    "collapsed": false
   },
   "outputs": [],
   "source": [
    "W0 = W\n",
    "b0 = b\n",
    "c0 = c;"
   ]
  },
  {
   "cell_type": "code",
   "execution_count": 240,
   "metadata": {
    "collapsed": false
   },
   "outputs": [],
   "source": [
    "# Saving the objects:\n",
    "with open('objs.pickle', 'wb') as f:  # Python 3: open(..., 'wb')\n",
    "    pickle.dump([W0, b0, c0], f)"
   ]
  },
  {
   "cell_type": "code",
   "execution_count": 616,
   "metadata": {
    "collapsed": false
   },
   "outputs": [
    {
     "data": {
      "image/png": "[encoded data removed]",
      "text/plain": [
       "<matplotlib.figure.Figure at 0x23b27b03cc0>"
      ]
     },
     "metadata": {},
     "output_type": "display_data"
    }
   ],
   "source": [
    "v = generate(W=W, b=b, c=c, n=500, m=len(images[0]), digit=0, iterations=2)\n",
    "predicted_image = [[v[14*i + j] for j in range(14)] for i in range(14)]\n",
    "imshow(predicted_image, cmap=cm.gray)\n",
    "show()"
   ]
  },
  {
   "cell_type": "code",
   "execution_count": null,
   "metadata": {
    "collapsed": true
   },
   "outputs": [],
   "source": []
  }
 ],
 "metadata": {
  "kernelspec": {
   "display_name": "Python 3",
   "language": "python",
   "name": "python3"
  },
  "language_info": {
   "codemirror_mode": {
    "name": "ipython",
    "version": 3
   },
   "file_extension": ".py",
   "mimetype": "text/x-python",
   "name": "python",
   "nbconvert_exporter": "python",
   "pygments_lexer": "ipython3",
   "version": "3.5.2"
  }
 },
 "nbformat": 4,
 "nbformat_minor": 1
}
